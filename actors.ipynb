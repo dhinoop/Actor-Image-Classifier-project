{
 "cells": [
  {
   "cell_type": "code",
   "execution_count": null,
   "id": "0",
   "metadata": {},
   "outputs": [],
   "source": [
    "import pathlib\n",
    "import cv2\n",
    "import numpy as np\n",
    "from PIL import Image\n",
    "import matplotlib.pyplot as plt\n",
    "from glob import glob\n",
    "\n",
    "import pandas as pd\n",
    "import tensorflow as tf\n",
    "from sklearn.model_selection import train_test_split\n",
    "from tensorflow.keras.layers import Conv2D, MaxPool2D, Flatten, Dense\n",
    "from tensorflow.keras.losses import SparseCategoricalCrossentropy\n",
    "from tensorflow.keras.optimizers import Adam\n",
    "from tensorflow.keras import Sequential\n"
   ]
  },
  {
   "cell_type": "code",
   "execution_count": null,
   "id": "1",
   "metadata": {},
   "outputs": [],
   "source": [
    "# dataset path\n",
    "pic_path = pathlib.Path(r'C:\\Users\\DHINOOP\\Downloads\\dataset')\n",
    "\n",
    "\n"
   ]
  },
  {
   "cell_type": "code",
   "execution_count": null,
   "id": "2",
   "metadata": {},
   "outputs": [],
   "source": [
    "# check folders\n",
    "list(pic_path.iterdir())"
   ]
  },
  {
   "cell_type": "code",
   "execution_count": null,
   "id": "3",
   "metadata": {},
   "outputs": [],
   "source": [
    "import pathlib\n",
    "\n",
    "pic_path = pathlib.Path(r\"C:\\Users\\DHINOOP\\Downloads\\dataset\")\n",
    "\n",
    "mammootty_list = list(pic_path.glob(\"mammooty/**/*\"))\n",
    "mohanlal_list = list(pic_path.glob(\"mohanlal/**/*\"))\n",
    "\n",
    "print(f\"Mammootty images: {len(mammootty_list)}\")\n",
    "print(f\"Mohanlal images: {len(mohanlal_list)}\")\n",
    "\n",
    "if len(mammootty_list) > 0:\n",
    "    print(\"Sample Mammootty:\", mammootty_list[0])\n",
    "else:\n",
    "    print(\"⚠ No Mammootty images found.\")\n",
    "\n",
    "if len(mohanlal_list) > 0:\n",
    "    print(\"Sample Mohanlal:\", mohanlal_list[0])\n",
    "else:\n",
    "    print(\"⚠ No Mohanlal images found.\")\n"
   ]
  },
  {
   "cell_type": "code",
   "execution_count": null,
   "id": "4",
   "metadata": {},
   "outputs": [],
   "source": [
    "mammootty_list = list(pic_path.glob(\"mammooty/**/*\"))\n",
    "mohanlal_list = list(pic_path.glob(\"mohanlal/**/*\"))\n",
    "\n",
    "pic_dict = {'mammootty': mammootty_list, 'mohanlal': mohanlal_list}\n",
    "pic_class = {'mammootty': 0, 'mohanlal': 1}\n",
    "\n",
    "# Optional: print some paths\n",
    "for i in pic_dict:\n",
    "    print(f\"\\n{i}:\")\n",
    "    for j in pic_dict[i][:3]:  # print first 3 images from each class\n",
    "        print(j)\n"
   ]
  },
  {
   "cell_type": "code",
   "execution_count": null,
   "id": "5",
   "metadata": {},
   "outputs": [],
   "source": [
    "x, y = [], []\n",
    "\n",
    "for label in pic_dict:\n",
    "    for img_path in pic_dict[label]:\n",
    "        img = cv2.imread(str(img_path))\n",
    "\n",
    "        if img is None:\n",
    "            print(\"Skipping unreadable image:\", img_path)\n",
    "            continue\n",
    "\n",
    "        img = cv2.resize(img, (100, 100))\n",
    "        img = cv2.cvtColor(img, cv2.COLOR_BGR2RGB)\n",
    "        img = img / 255.0\n",
    "\n",
    "        x.append(img)\n",
    "        y.append(pic_class[label])\n",
    "\n",
    "x = np.array(x)\n",
    "y = np.array(y)\n",
    "\n",
    "print(x.shape, y.shape)\n"
   ]
  },
  {
   "cell_type": "code",
   "execution_count": null,
   "id": "6",
   "metadata": {},
   "outputs": [],
   "source": [
    "xtrain, xtest, ytrain, ytest = train_test_split(x, y, train_size=0.8, random_state=1)\n"
   ]
  },
  {
   "cell_type": "code",
   "execution_count": null,
   "id": "7",
   "metadata": {},
   "outputs": [],
   "source": [
    "model = Sequential([\n",
    "    Conv2D(50, (3,3), activation='relu', input_shape=(100,100,3), strides=1, padding='valid'),\n",
    "    MaxPool2D(pool_size=(2,3)),\n",
    "    Conv2D(100, (3,3), activation='relu', strides=1, padding='valid'),\n",
    "    MaxPool2D(pool_size=(2,2)),\n",
    "    Flatten(),\n",
    "    Dense(100, activation='relu'),\n",
    "    Dense(2, activation='softmax')\n",
    "])\n",
    "\n",
    "model.compile(optimizer=Adam(), \n",
    "              loss=SparseCategoricalCrossentropy(), \n",
    "              metrics=['accuracy'])\n",
    "\n",
    "history = model.fit(xtrain, ytrain, \n",
    "                    batch_size=32, epochs=100, \n",
    "                    validation_data=(xtest, ytest))\n",
    "\n",
    "# save the model\n",
    "model.save('face.h5')\n"
   ]
  },
  {
   "cell_type": "code",
   "execution_count": null,
   "id": "8",
   "metadata": {},
   "outputs": [],
   "source": [
    "# Load model\n",
    "model = tf.keras.models.load_model('face.h5')\n",
    "\n",
    "# Labels\n",
    "labels = {0: 'Mammootty', 1: 'Mohanlal'}\n"
   ]
  },
  {
   "cell_type": "code",
   "execution_count": null,
   "id": "9",
   "metadata": {},
   "outputs": [],
   "source": [
    "def detect_faces(frame, model, labels):\n",
    "    gray = cv2.cvtColor(frame, cv2.COLOR_BGR2GRAY)\n",
    "    face_cascade = cv2.CascadeClassifier(cv2.data.haarcascades + 'haarcascade_frontalface_default.xml')\n",
    "\n",
    "    faces = face_cascade.detectMultiScale(gray, 1.3, 5)\n",
    "\n",
    "    if len(faces) == 0:\n",
    "        cv2.putText(frame, 'No face detected', (10,30), cv2.FONT_HERSHEY_SIMPLEX, \n",
    "                    1, (0,0,255), 2, cv2.LINE_AA)\n",
    "        return frame\n",
    "\n",
    "    for (x,y,w,h) in faces:\n",
    "        face = frame[y:y+h, x:x+w]\n",
    "        face_rgb = cv2.cvtColor(face, cv2.COLOR_BGR2RGB)\n",
    "        face_resized = cv2.resize(face_rgb, (100,100))\n",
    "        face_resized = np.expand_dims(face_resized/255.0, axis=0)\n",
    "        \n",
    "        pred = model.predict(face_resized)\n",
    "        label = labels[pred.argmax()]\n",
    "        \n",
    "        cv2.rectangle(frame, (x,y), (x+w,y+h), (255,0,0), 2)\n",
    "        cv2.putText(frame, label, (x, y-10), cv2.FONT_HERSHEY_SIMPLEX, \n",
    "                    0.9, (0,255,0), 2)\n",
    "    return frame\n"
   ]
  },
  {
   "cell_type": "code",
   "execution_count": null,
   "id": "10",
   "metadata": {},
   "outputs": [],
   "source": [
    "test_image_path = r'C:\\Users\\DHINOOP\\Downloads\\lal.jpg'  # change this to your test image\n",
    "frame = cv2.imread(test_image_path)\n",
    "\n",
    "if frame is None:\n",
    "    print(\"Error: Unable to load image.\")\n",
    "else:\n",
    "    output_image = detect_faces(frame, model, labels)\n",
    "    cv2.imshow(\"Prediction\", output_image)\n",
    "    cv2.waitKey(0)\n",
    "    cv2.destroyAllWindows()\n"
   ]
  },
  {
   "cell_type": "code",
   "execution_count": null,
   "id": "11",
   "metadata": {},
   "outputs": [],
   "source": [
    "test_image_path = r'C:\\Users\\DHINOOP\\Downloads\\ikka.web'  # change this to your test image\n",
    "frame = cv2.imread(test_image_path)\n",
    "\n",
    "if frame is None:\n",
    "    print(\"Error: Unable to load image.\")\n",
    "else:\n",
    "    output_image = detect_faces(frame, model, labels)\n",
    "    cv2.imshow(\"Prediction\", output_image)\n",
    "    cv2.waitKey(0)\n",
    "    cv2.destroyAllWindows()\n"
   ]
  },
  {
   "cell_type": "code",
   "execution_count": null,
   "id": "12",
   "metadata": {},
   "outputs": [],
   "source": [
    "\n",
    "import cv2\n",
    "import numpy as np\n",
    "import tensorflow as tf\n",
    "\n",
    "# Load your trained model\n",
    "model = tf.keras.models.load_model(\"face.h5\")\n",
    "\n",
    "# Labels mapping\n",
    "labels = {0: 'Mammootty', 1: 'Mohanlal'}\n",
    "\n",
    "# Load Haar Cascade for face detection\n",
    "face_cascade = cv2.CascadeClassifier(cv2.data.haarcascades + 'haarcascade_frontalface_default.xml')\n",
    "\n",
    "# Prediction function\n",
    "def predict_face(face_img):\n",
    "    face_img = cv2.resize(face_img, (100, 100))\n",
    "    face_img = cv2.cvtColor(face_img, cv2.COLOR_BGR2RGB)\n",
    "    face_img = face_img / 255.0\n",
    "    face_img = np.expand_dims(face_img, axis=0)\n",
    "    preds = model.predict(face_img)\n",
    "    return labels[np.argmax(preds)]\n",
    "\n",
    "# Open webcam\n",
    "cap = cv2.VideoCapture(0)  # use 0 for the default camera\n",
    "\n",
    "if not cap.isOpened():\n",
    "    print(\"Error: Could not open webcam.\")\n",
    "    exit()\n",
    "while True:\n",
    "    ret, frame = cap.read()\n",
    "    if not ret:\n",
    "        break\n",
    "\n",
    "    gray = cv2.cvtColor(frame, cv2.COLOR_BGR2GRAY)\n",
    "    faces = face_cascade.detectMultiScale(gray, 1.3, 5)\n",
    "\n",
    "    for (x, y, w, h) in faces:\n",
    "        face_img = frame[y:y+h, x:x+w]\n",
    "        label = predict_face(face_img)\n",
    "        cv2.rectangle(frame, (x, y), (x+w, y+h), (0, 255, 0), 2)\n",
    "        cv2.putText(frame, label, (x, y-10), cv2.FONT_HERSHEY_SIMPLEX, 0.9, (0, 255, 0), 2)\n",
    "\n",
    "    cv2.imshow(\"Live Face Recognition\", frame)\n",
    "\n",
    "    key = cv2.waitKey(1)\n",
    "    if key == ord('q'):\n",
    "        break\n",
    "    elif key == 27:  # ESC key\n",
    "        break\n",
    "\n",
    "cap.release()\n",
    "cv2.destroyAllWindows()\n"
   ]
  },
  {
   "cell_type": "code",
   "execution_count": null,
   "id": "13",
   "metadata": {},
   "outputs": [],
   "source": [
    "\n"
   ]
  },
  {
   "cell_type": "code",
   "execution_count": null,
   "id": "14",
   "metadata": {},
   "outputs": [],
   "source": []
  }
 ],
 "metadata": {
  "kernelspec": {
   "display_name": "Python 3 (ipykernel)",
   "language": "python",
   "name": "python3"
  },
  "language_info": {
   "codemirror_mode": {
    "name": "ipython",
    "version": 3
   },
   "file_extension": ".py",
   "mimetype": "text/x-python",
   "name": "python",
   "nbconvert_exporter": "python",
   "pygments_lexer": "ipython3",
   "version": "3.10.10"
  }
 },
 "nbformat": 4,
 "nbformat_minor": 5
}
